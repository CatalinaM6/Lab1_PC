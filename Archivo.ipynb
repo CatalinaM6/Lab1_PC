{
  "nbformat": 4,
  "nbformat_minor": 0,
  "metadata": {
    "colab": {
      "provenance": [],

      "include_colab_link": true
    },
    "kernelspec": {
      "name": "python3",
      "display_name": "Python 3"
    },
    "language_info": {
      "name": "python"
    }
  },
  "cells": [
    {
      "cell_type": "markdown",
      "metadata": {
        "id": "view-in-github",
        "colab_type": "text"
      },
      "source": [
      ]
    },
    {
      "cell_type": "code",
      "execution_count": 1,

      "metadata": {
        "colab": {
          "base_uri": "https://localhost:8080/"
        },
        "id": "LmADI1o55Dis",
        "outputId": "67adf064-acbe-4306-bd72-463730a9916a"

      },
      "outputs": [
        {
          "output_type": "stream",
          "name": "stdout",
          "text": [
            "Equipo 4, Valentina\n"

          ]
        }
      ],
      "source": [
        "print(\"Equipo 4, Valentina\")"
      ]
    }
  ]
}