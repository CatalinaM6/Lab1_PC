{
  "nbformat": 4,
  "nbformat_minor": 0,
  "metadata": {
    "colab": {
      "provenance": [],
      "authorship_tag": "ABX9TyNa6kjw1PUvBVw1Zo79QjM3",
      "include_colab_link": true
    },
    "kernelspec": {
      "name": "python3",
      "display_name": "Python 3"
    },
    "language_info": {
      "name": "python"
    }
  },
  "cells": [
    {
      "cell_type": "markdown",
      "metadata": {
        "id": "view-in-github",
        "colab_type": "text"
      },
      "source": [
        "<a href=\"https://colab.research.google.com/github/CatalinaM6/Lab1_PC/blob/Marquez/Archivo.ipynb\" target=\"_parent\"><img src=\"https://colab.research.google.com/assets/colab-badge.svg\" alt=\"Open In Colab\"/></a>"
      ]
    },
    {
      "cell_type": "code",
      "execution_count": 3,
      "metadata": {
        "colab": {
          "base_uri": "https://localhost:8080/"
        },
        "id": "LmADI1o55Dis",
        "outputId": "bb85053e-2529-42e1-8741-fa2c53a66537"
      },
      "outputs": [
        {
          "output_type": "stream",
          "name": "stdout",
          "text": [
            "Equipo 4, Catalina\n"
          ]
        }
      ],
      "source": [
        "print(\"Equipo 4, Catalina\")"
      ]
    },
    {
      "cell_type": "code",
      "source": [
        "print(\"Catalina M aporte\")"
      ],
      "metadata": {
        "colab": {
          "base_uri": "https://localhost:8080/"
        },
        "id": "Lj9nEjNJaDnH",
        "outputId": "d8a0a75d-0fd0-4c99-c952-244cfd25033f"
      },
      "execution_count": 1,
      "outputs": [
        {
          "output_type": "stream",
          "name": "stdout",
          "text": [
            "Catalina M aporte\n"
          ]
        }
      ]
    }
  ]
}